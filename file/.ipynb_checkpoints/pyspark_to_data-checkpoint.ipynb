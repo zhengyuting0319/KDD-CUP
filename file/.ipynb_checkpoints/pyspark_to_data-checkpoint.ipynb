{
 "cells": [
  {
   "cell_type": "code",
   "execution_count": 1,
   "metadata": {},
   "outputs": [],
   "source": [
    "import pandas as pd\n",
    "from pyspark.sql.types import StringType\n",
    "from pyspark.sql.functions import mean, col, udf\n",
    "from pyspark import SQLContext, SparkContext\n",
    "import numpy as np\n",
    "import pandas\n",
    "import pdb"
   ]
  },
  {
   "cell_type": "code",
   "execution_count": 2,
   "metadata": {},
   "outputs": [],
   "source": [
    "train_file = 'data/train.csv'\n",
    "test_file = 'data/test.csv'"
   ]
  },
  {
   "cell_type": "code",
   "execution_count": 20,
   "metadata": {},
   "outputs": [],
   "source": [
    "sc = SparkContext('local')\n",
    "sqlContext = SQLContext(sc)\n",
    "\n",
    "traindata = sqlContext.read.csv(train_file, sep='\\t', header=True)\n",
    "testdata = sqlContext.read.csv(test_file, sep='\\t', header=True)"
   ]
  },
  {
   "cell_type": "code",
   "execution_count": 21,
   "metadata": {},
   "outputs": [],
   "source": [
    "correct = traindata.filter(traindata['Correct First Attempt'] == '1')"
   ]
  },
  {
   "cell_type": "code",
   "execution_count": 22,
   "metadata": {},
   "outputs": [
    {
     "data": {
      "text/plain": [
       "DataFrame[Row: string, Anon Student Id: string, Problem Hierarchy: string, Problem Name: string, Problem View: string, Step Name: string, Step Start Time: string, First Transaction Time: string, Correct Transaction Time: string, Step End Time: string, Step Duration (sec): string, Correct Step Duration (sec): string, Error Step Duration (sec): string, Correct First Attempt: string, Incorrects: string, Hints: string, Corrects: string, KC(Default): string, Opportunity(Default): string, Personal CFAR: double]"
      ]
     },
     "execution_count": 22,
     "metadata": {},
     "output_type": "execute_result"
    }
   ],
   "source": [
    "# Personal CFAR\n",
    "student_group = traindata.groupby('Anon Student Id').count()\n",
    "student_correct_group = correct.groupby('Anon Student Id').count()\n",
    "student_correct_rate = student_correct_group.join(student_group, student_group['Anon Student Id'] == student_correct_group['Anon Student Id']).drop(\n",
    "    student_group['Anon Student Id']).select('Anon Student Id', (student_correct_group['count'] / student_group['count']).alias('Personal CFAR'))\n",
    "student_mean_CFAR = student_correct_rate.select(\n",
    "    mean(col('Personal CFAR')).alias('mean')).collect()[0]['mean']\n",
    "traindata = traindata.join(student_correct_rate, student_correct_rate['Anon Student Id'] == traindata['Anon Student Id']).drop(\n",
    "    student_correct_rate['Anon Student Id'])\n",
    "testdata = testdata.join(student_correct_rate, student_correct_rate['Anon Student Id'] == testdata['Anon Student Id']).drop(\n",
    "    student_correct_rate['Anon Student Id'])\n",
    "testdata.na.fill(student_mean_CFAR, 'Personal CFAR')"
   ]
  },
  {
   "cell_type": "code",
   "execution_count": 23,
   "metadata": {},
   "outputs": [
    {
     "data": {
      "text/plain": [
       "DataFrame[Row: string, Anon Student Id: string, Problem Hierarchy: string, Problem Name: string, Problem View: string, Step Name: string, Step Start Time: string, First Transaction Time: string, Correct Transaction Time: string, Step End Time: string, Step Duration (sec): string, Correct Step Duration (sec): string, Error Step Duration (sec): string, Correct First Attempt: string, Incorrects: string, Hints: string, Corrects: string, KC(Default): string, Opportunity(Default): string, Personal CFAR: double, Problem CFAR: double]"
      ]
     },
     "execution_count": 23,
     "metadata": {},
     "output_type": "execute_result"
    }
   ],
   "source": [
    "# Problem CFAR\n",
    "problem_group = traindata.groupby('Problem Name').count()\n",
    "problem_correct_group = correct.groupby('Problem Name').count()\n",
    "problem_correct_rate = problem_correct_group.join(problem_group, problem_group['Problem Name'] == problem_correct_group['Problem Name']).drop(\n",
    "    problem_group['Problem Name']).select('Problem Name', (problem_correct_group['count'] / problem_group['count']).alias('Problem CFAR'))\n",
    "problem_mean_CFAR = problem_correct_rate.select(\n",
    "    mean(col('Problem CFAR')).alias('mean')).collect()[0]['mean']\n",
    "traindata = traindata.join(problem_correct_rate, problem_correct_rate['Problem Name'] == traindata['Problem Name']).drop(\n",
    "    problem_correct_rate['Problem Name'])\n",
    "testdata = testdata.join(problem_correct_rate, problem_correct_rate['Problem Name'] == testdata['Problem Name']).drop(\n",
    "    problem_correct_rate['Problem Name'])\n",
    "testdata.na.fill(problem_mean_CFAR, 'Problem CFAR')"
   ]
  },
  {
   "cell_type": "code",
   "execution_count": 24,
   "metadata": {},
   "outputs": [
    {
     "data": {
      "text/plain": [
       "DataFrame[Row: string, Anon Student Id: string, Problem Hierarchy: string, Problem Name: string, Problem View: string, Step Name: string, Step Start Time: string, First Transaction Time: string, Correct Transaction Time: string, Step End Time: string, Step Duration (sec): string, Correct Step Duration (sec): string, Error Step Duration (sec): string, Correct First Attempt: string, Incorrects: string, Hints: string, Corrects: string, KC(Default): string, Opportunity(Default): string, Personal CFAR: double, Problem CFAR: double, Step CFAR: double]"
      ]
     },
     "execution_count": 24,
     "metadata": {},
     "output_type": "execute_result"
    }
   ],
   "source": [
    "# Step CFAR\n",
    "step_group = traindata.groupby('Step Name').count()\n",
    "step_correct_group = correct.groupby('Step Name').count()\n",
    "step_correct_rate = step_correct_group.join(step_group, step_group['Step Name'] == step_correct_group['Step Name']).drop(\n",
    "    step_group['Step Name']).select('Step Name', (step_correct_group['count'] / step_group['count']).alias('Step CFAR'))\n",
    "step_mean_CFAR = step_correct_rate.select(\n",
    "    mean(col('Step CFAR')).alias('mean')).collect()[0]['mean']\n",
    "traindata = traindata.join(step_correct_rate, step_correct_rate['Step Name'] == traindata['Step Name']).drop(\n",
    "    step_correct_rate['Step Name'])\n",
    "testdata = testdata.join(step_correct_rate, step_correct_rate['Step Name'] == testdata['Step Name']).drop(\n",
    "    step_correct_rate['Step Name'])\n",
    "testdata.na.fill(step_mean_CFAR, 'Step CFAR')"
   ]
  },
  {
   "cell_type": "code",
   "execution_count": null,
   "metadata": {},
   "outputs": [],
   "source": []
  },
  {
   "cell_type": "code",
   "execution_count": 3,
   "metadata": {},
   "outputs": [],
   "source": [
    "train_data = pd.read_csv(train_file, sep='\\t')\n",
    "test_data = pd.read_csv(test_file, sep='\\t')"
   ]
  },
  {
   "cell_type": "code",
   "execution_count": 4,
   "metadata": {},
   "outputs": [],
   "source": [
    "compound_KCs = set(train_data['KC(Default)'])\n",
    "KC ={}\n",
    "KC_correct_rate = {}\n",
    "for kcs in compound_KCs:\n",
    "    if pd.isnull(kcs):\n",
    "        continue\n",
    "    for kc in kcs.split('~~'):\n",
    "        KC[kc] = [0,0]\n",
    "        \n",
    "for _, row in train_data.iterrows():\n",
    "    if pd.isnull(row['KC(Default)']):\n",
    "        continue\n",
    "    else:\n",
    "        for kc in row['KC(Default)'].split('~~'):\n",
    "            if row['Correct First Attempt']:\n",
    "                KC[kc][0] += 1\n",
    "            KC[kc][1] += 1\n",
    "KC_correct_rate = {i:KC[i][0]/KC[i][1] for i in KC.keys()}\n",
    "mean_KCFAR =  np.mean(list(KC_correct_rate.values()))"
   ]
  },
  {
   "cell_type": "code",
   "execution_count": 5,
   "metadata": {},
   "outputs": [
    {
     "name": "stdout",
     "output_type": "stream",
     "text": [
      "0\n",
      "10000\n",
      "20000\n",
      "30000\n",
      "40000\n",
      "50000\n",
      "60000\n",
      "70000\n",
      "80000\n",
      "90000\n",
      "100000\n",
      "110000\n",
      "120000\n",
      "130000\n",
      "140000\n",
      "150000\n",
      "160000\n",
      "170000\n",
      "180000\n",
      "190000\n",
      "200000\n",
      "210000\n",
      "220000\n",
      "230000\n"
     ]
    }
   ],
   "source": [
    "# KC CFAR(avg)\n",
    "tmp = []\n",
    "for i, row in train_data.iterrows():\n",
    "    if i%10000 == 0:\n",
    "        print(i)\n",
    "    if pd.isnull(row['KC(Default)']):\n",
    "        tmp.append(0.815)\n",
    "    else:\n",
    "#         for kc in row['KC(Default)'].split('~~'):\n",
    "        tmp.append(sum([KC_correct_rate[kc] for kc in row['KC(Default)'].split('~~')])\\\n",
    "        / (row['KC(Default)'].count(\"~\")+1))\n",
    "train_data['KC CFAR(avg)'] = tmp"
   ]
  },
  {
   "cell_type": "code",
   "execution_count": 6,
   "metadata": {},
   "outputs": [
    {
     "name": "stdout",
     "output_type": "stream",
     "text": [
      "0\n",
      "10000\n",
      "20000\n",
      "30000\n",
      "40000\n",
      "50000\n",
      "60000\n",
      "70000\n",
      "80000\n",
      "90000\n",
      "100000\n",
      "110000\n",
      "120000\n",
      "130000\n",
      "140000\n",
      "150000\n",
      "160000\n",
      "170000\n",
      "180000\n",
      "190000\n",
      "200000\n",
      "210000\n",
      "220000\n",
      "230000\n"
     ]
    }
   ],
   "source": [
    "# KC CFAR\n",
    "tmp = []\n",
    "for i, row in train_data.iterrows():\n",
    "    if i%10000 == 0:\n",
    "        print(i)\n",
    "    if pd.isnull(row['KC(Default)']):\n",
    "        tmp.append(0.815)\n",
    "    else:\n",
    "        tmpp = 1.0\n",
    "        for kc in row['KC(Default)'].split('~~'):\n",
    "            tmpp *= KC_correct_rate[kc]\n",
    "        tmp.append(tmpp)\n",
    "train_data['KC CFAR'] = tmp"
   ]
  },
  {
   "cell_type": "code",
   "execution_count": 7,
   "metadata": {},
   "outputs": [],
   "source": [
    "# KC_num\n",
    "train_data['KC_num'] = train_data['KC(Default)'].astype(\"str\").apply(lambda x: 0 if x == 'nan' else (x.count('~~') + 1))"
   ]
  },
  {
   "cell_type": "code",
   "execution_count": 8,
   "metadata": {},
   "outputs": [],
   "source": [
    "# Opportunity(Mean), Opportunity(Min)\n",
    "train_data['Opportunity(Mean)'] = train_data['Opportunity(Default)'].astype(\n",
    "    \"str\").apply(lambda x: np.mean(list(map(int, x.replace('nan', '0').split('~~')))))\n",
    "train_data['Opportunity(Min)'] = train_data['Opportunity(Default)'].astype(\n",
    "    \"str\").apply(lambda x: min(list(map(int, x.replace('nan', '0').split('~~')))))"
   ]
  },
  {
   "cell_type": "code",
   "execution_count": 10,
   "metadata": {},
   "outputs": [],
   "source": [
    "# Step time\n",
    "step_time = {}\n",
    "for step, group in train_data.groupby(['Step Name']):\n",
    "    step_time[step] = 1.0 * (group['Step Duration (sec)']).mean() \n",
    "                                   \n",
    "train_data['Step time'] = train_data['Step Name'].apply(lambda x: step_time[x])\n",
    "tmp_list = []\n",
    "for i in step_time.values():\n",
    "    if not pd.isnull(i):\n",
    "        tmp_list.append(i)\n",
    "median_time = np.median(tmp_list)\n",
    "mean_step_time = np.mean(tmp_list)"
   ]
  },
  {
   "cell_type": "code",
   "execution_count": 11,
   "metadata": {},
   "outputs": [],
   "source": [
    "# Problem time\n",
    "problem_time = {}\n",
    "for problem, group in train_data.groupby(['Problem Name']):\n",
    "    problem_time[problem] = (group['Step Duration (sec)']).mean() \n",
    "train_data['Problem time'] = train_data['Problem Name'].apply(\n",
    "    lambda x: problem_time[x])\n",
    "mean_prob_time = np.mean(list(problem_time.values()))"
   ]
  },
  {
   "cell_type": "code",
   "execution_count": 15,
   "metadata": {},
   "outputs": [],
   "source": [
    "# add in test\n",
    "test_data['KC_num'] = test_data['KC(Default)'].astype(\"str\").apply(\n",
    "    lambda x: 0 if x == 'nan' else (x.count('~~') + 1))\n",
    "test_data['Step time'] = test_data['Step Name'].apply(\n",
    "    lambda x: step_time[x] if x in step_time.keys() else mean_step_time)\n",
    "test_data['Problem time'] = test_data['Step Name'].apply(\n",
    "    lambda x: problem_time[x] if x in problem_time.keys() else mean_prob_time)"
   ]
  },
  {
   "cell_type": "code",
   "execution_count": 16,
   "metadata": {},
   "outputs": [],
   "source": [
    "tmp_list = []\n",
    "for i, row in test_data.iterrows():\n",
    "    if pd.isnull(row['KC(Default)']):\n",
    "        tmp_list.append(0.815) \n",
    "    else:\n",
    "        tmp = 1\n",
    "        for kc in row['KC(Default)'].split('~~'):\n",
    "            if kc in KC_correct_rate.keys():\n",
    "                tmp *= KC_correct_rate[kc]\n",
    "            else:\n",
    "                tmp *= mean_KCFAR\n",
    "        tmp_list.append(tmp)\n",
    "test_data['KC CFAR'] = tmp_list\n",
    "\n",
    "tmp_list = []\n",
    "for i, row in test_data.iterrows():\n",
    "    if pd.isnull(row['KC(Default)']):\n",
    "        tmp_list.append(0.815) \n",
    "    else:\n",
    "        tmp = 0\n",
    "        for kc in row['KC(Default)'].split('~~'):\n",
    "            if kc in KC_correct_rate.keys():\n",
    "                tmp += (KC_correct_rate[kc])\n",
    "            else:\n",
    "                tmp += (mean_KCFAR)\n",
    "        tmp_list.append(tmp/(row['KC(Default)'].count(\"~\")+1))\n",
    "test_data['KC CFAR(avg)'] = tmp_list"
   ]
  },
  {
   "cell_type": "code",
   "execution_count": 17,
   "metadata": {},
   "outputs": [],
   "source": [
    "test_data['Opportunity(Mean)'] = test_data['Opportunity(Default)'].astype(\"str\").apply(\n",
    "    lambda x: np.mean(list(map(int, x.replace('nan', '0').split('~~')))))\n",
    "test_data['Opportunity(Min)'] = test_data['Opportunity(Default)'].astype(\n",
    "    \"str\").apply(lambda x: min(list(map(int, x.replace('nan', '0').split('~~')))))"
   ]
  },
  {
   "cell_type": "code",
   "execution_count": 18,
   "metadata": {},
   "outputs": [
    {
     "data": {
      "text/html": [
       "<div>\n",
       "<style scoped>\n",
       "    .dataframe tbody tr th:only-of-type {\n",
       "        vertical-align: middle;\n",
       "    }\n",
       "\n",
       "    .dataframe tbody tr th {\n",
       "        vertical-align: top;\n",
       "    }\n",
       "\n",
       "    .dataframe thead th {\n",
       "        text-align: right;\n",
       "    }\n",
       "</style>\n",
       "<table border=\"1\" class=\"dataframe\">\n",
       "  <thead>\n",
       "    <tr style=\"text-align: right;\">\n",
       "      <th></th>\n",
       "      <th>Row</th>\n",
       "      <th>Anon Student Id</th>\n",
       "      <th>Problem Hierarchy</th>\n",
       "      <th>Problem Name</th>\n",
       "      <th>Problem View</th>\n",
       "      <th>Step Name</th>\n",
       "      <th>Step Start Time</th>\n",
       "      <th>First Transaction Time</th>\n",
       "      <th>Correct Transaction Time</th>\n",
       "      <th>Step End Time</th>\n",
       "      <th>...</th>\n",
       "      <th>Corrects</th>\n",
       "      <th>KC(Default)</th>\n",
       "      <th>Opportunity(Default)</th>\n",
       "      <th>KC CFAR(avg)</th>\n",
       "      <th>KC CFAR</th>\n",
       "      <th>KC_num</th>\n",
       "      <th>Opportunity(Mean)</th>\n",
       "      <th>Opportunity(Min)</th>\n",
       "      <th>Step time</th>\n",
       "      <th>Problem time</th>\n",
       "    </tr>\n",
       "  </thead>\n",
       "  <tbody>\n",
       "    <tr>\n",
       "      <th>0</th>\n",
       "      <td>9938</td>\n",
       "      <td>52vEY7f17k</td>\n",
       "      <td>Unit CTA1_13, Section CTA1_13-1</td>\n",
       "      <td>PROP04</td>\n",
       "      <td>1</td>\n",
       "      <td>R1C1</td>\n",
       "      <td>2005-09-09 12:23:34.0</td>\n",
       "      <td>2005-09-09 12:24:07.0</td>\n",
       "      <td>2005-09-09 12:24:07.0</td>\n",
       "      <td>2005-09-09 12:24:07.0</td>\n",
       "      <td>...</td>\n",
       "      <td>1</td>\n",
       "      <td>NaN</td>\n",
       "      <td>NaN</td>\n",
       "      <td>0.815000</td>\n",
       "      <td>0.815000</td>\n",
       "      <td>0</td>\n",
       "      <td>0.0</td>\n",
       "      <td>0</td>\n",
       "      <td>49.941010</td>\n",
       "      <td>40.733454</td>\n",
       "    </tr>\n",
       "    <tr>\n",
       "      <th>1</th>\n",
       "      <td>9939</td>\n",
       "      <td>52vEY7f17k</td>\n",
       "      <td>Unit CTA1_13, Section CTA1_13-1</td>\n",
       "      <td>PROP04</td>\n",
       "      <td>1</td>\n",
       "      <td>R1C2</td>\n",
       "      <td>2005-09-09 12:24:07.0</td>\n",
       "      <td>2005-09-09 12:24:22.0</td>\n",
       "      <td>2005-09-09 12:24:22.0</td>\n",
       "      <td>2005-09-09 12:24:22.0</td>\n",
       "      <td>...</td>\n",
       "      <td>1</td>\n",
       "      <td>NaN</td>\n",
       "      <td>NaN</td>\n",
       "      <td>0.815000</td>\n",
       "      <td>0.815000</td>\n",
       "      <td>0</td>\n",
       "      <td>0.0</td>\n",
       "      <td>0</td>\n",
       "      <td>32.949725</td>\n",
       "      <td>40.733454</td>\n",
       "    </tr>\n",
       "    <tr>\n",
       "      <th>2</th>\n",
       "      <td>9940</td>\n",
       "      <td>52vEY7f17k</td>\n",
       "      <td>Unit CTA1_13, Section CTA1_13-1</td>\n",
       "      <td>PROP04</td>\n",
       "      <td>1</td>\n",
       "      <td>R3C1</td>\n",
       "      <td>2005-09-09 12:24:22.0</td>\n",
       "      <td>2005-09-09 12:25:16.0</td>\n",
       "      <td>2005-09-09 12:25:40.0</td>\n",
       "      <td>2005-09-09 12:25:40.0</td>\n",
       "      <td>...</td>\n",
       "      <td>1</td>\n",
       "      <td>Define Variable</td>\n",
       "      <td>1</td>\n",
       "      <td>0.966979</td>\n",
       "      <td>0.966979</td>\n",
       "      <td>1</td>\n",
       "      <td>1.0</td>\n",
       "      <td>1</td>\n",
       "      <td>10.225832</td>\n",
       "      <td>40.733454</td>\n",
       "    </tr>\n",
       "  </tbody>\n",
       "</table>\n",
       "<p>3 rows × 26 columns</p>\n",
       "</div>"
      ],
      "text/plain": [
       "    Row Anon Student Id                Problem Hierarchy Problem Name  \\\n",
       "0  9938      52vEY7f17k  Unit CTA1_13, Section CTA1_13-1       PROP04   \n",
       "1  9939      52vEY7f17k  Unit CTA1_13, Section CTA1_13-1       PROP04   \n",
       "2  9940      52vEY7f17k  Unit CTA1_13, Section CTA1_13-1       PROP04   \n",
       "\n",
       "   Problem View Step Name        Step Start Time First Transaction Time  \\\n",
       "0             1      R1C1  2005-09-09 12:23:34.0  2005-09-09 12:24:07.0   \n",
       "1             1      R1C2  2005-09-09 12:24:07.0  2005-09-09 12:24:22.0   \n",
       "2             1      R3C1  2005-09-09 12:24:22.0  2005-09-09 12:25:16.0   \n",
       "\n",
       "  Correct Transaction Time          Step End Time  ...  Corrects  \\\n",
       "0    2005-09-09 12:24:07.0  2005-09-09 12:24:07.0  ...         1   \n",
       "1    2005-09-09 12:24:22.0  2005-09-09 12:24:22.0  ...         1   \n",
       "2    2005-09-09 12:25:40.0  2005-09-09 12:25:40.0  ...         1   \n",
       "\n",
       "       KC(Default)  Opportunity(Default)  KC CFAR(avg)   KC CFAR  KC_num  \\\n",
       "0              NaN                   NaN      0.815000  0.815000       0   \n",
       "1              NaN                   NaN      0.815000  0.815000       0   \n",
       "2  Define Variable                     1      0.966979  0.966979       1   \n",
       "\n",
       "   Opportunity(Mean) Opportunity(Min)  Step time  Problem time  \n",
       "0                0.0                0  49.941010     40.733454  \n",
       "1                0.0                0  32.949725     40.733454  \n",
       "2                1.0                1  10.225832     40.733454  \n",
       "\n",
       "[3 rows x 26 columns]"
      ]
     },
     "execution_count": 18,
     "metadata": {},
     "output_type": "execute_result"
    }
   ],
   "source": [
    "train_data[:3]"
   ]
  },
  {
   "cell_type": "code",
   "execution_count": 19,
   "metadata": {},
   "outputs": [
    {
     "data": {
      "text/html": [
       "<div>\n",
       "<style scoped>\n",
       "    .dataframe tbody tr th:only-of-type {\n",
       "        vertical-align: middle;\n",
       "    }\n",
       "\n",
       "    .dataframe tbody tr th {\n",
       "        vertical-align: top;\n",
       "    }\n",
       "\n",
       "    .dataframe thead th {\n",
       "        text-align: right;\n",
       "    }\n",
       "</style>\n",
       "<table border=\"1\" class=\"dataframe\">\n",
       "  <thead>\n",
       "    <tr style=\"text-align: right;\">\n",
       "      <th></th>\n",
       "      <th>Row</th>\n",
       "      <th>Anon Student Id</th>\n",
       "      <th>Problem Hierarchy</th>\n",
       "      <th>Problem Name</th>\n",
       "      <th>Problem View</th>\n",
       "      <th>Step Name</th>\n",
       "      <th>Step Start Time</th>\n",
       "      <th>First Transaction Time</th>\n",
       "      <th>Correct Transaction Time</th>\n",
       "      <th>Step End Time</th>\n",
       "      <th>...</th>\n",
       "      <th>Corrects</th>\n",
       "      <th>KC(Default)</th>\n",
       "      <th>Opportunity(Default)</th>\n",
       "      <th>KC_num</th>\n",
       "      <th>Step time</th>\n",
       "      <th>Problem time</th>\n",
       "      <th>KC CFAR</th>\n",
       "      <th>KC CFAR(avg)</th>\n",
       "      <th>Opportunity(Mean)</th>\n",
       "      <th>Opportunity(Min)</th>\n",
       "    </tr>\n",
       "  </thead>\n",
       "  <tbody>\n",
       "    <tr>\n",
       "      <th>0</th>\n",
       "      <td>10039</td>\n",
       "      <td>52vEY7f17k</td>\n",
       "      <td>Unit CTA1_13, Section CTA1_13-1</td>\n",
       "      <td>PROP01</td>\n",
       "      <td>1</td>\n",
       "      <td>2/300*X = 10</td>\n",
       "      <td>NaN</td>\n",
       "      <td>NaN</td>\n",
       "      <td>NaN</td>\n",
       "      <td>NaN</td>\n",
       "      <td>...</td>\n",
       "      <td>NaN</td>\n",
       "      <td>NaN</td>\n",
       "      <td>NaN</td>\n",
       "      <td>0</td>\n",
       "      <td>22.200000</td>\n",
       "      <td>24.643487</td>\n",
       "      <td>0.815000</td>\n",
       "      <td>0.815000</td>\n",
       "      <td>0.0</td>\n",
       "      <td>0</td>\n",
       "    </tr>\n",
       "    <tr>\n",
       "      <th>1</th>\n",
       "      <td>10482</td>\n",
       "      <td>52vEY7f17k</td>\n",
       "      <td>Unit CTA1_06, Section CTA1_06-3</td>\n",
       "      <td>FOR05</td>\n",
       "      <td>1</td>\n",
       "      <td>xScale</td>\n",
       "      <td>NaN</td>\n",
       "      <td>NaN</td>\n",
       "      <td>NaN</td>\n",
       "      <td>NaN</td>\n",
       "      <td>...</td>\n",
       "      <td>NaN</td>\n",
       "      <td>Changing axis intervals</td>\n",
       "      <td>28</td>\n",
       "      <td>1</td>\n",
       "      <td>17.450453</td>\n",
       "      <td>24.643487</td>\n",
       "      <td>1.000000</td>\n",
       "      <td>1.000000</td>\n",
       "      <td>28.0</td>\n",
       "      <td>28</td>\n",
       "    </tr>\n",
       "    <tr>\n",
       "      <th>2</th>\n",
       "      <td>11024</td>\n",
       "      <td>52vEY7f17k</td>\n",
       "      <td>Unit ES_03, Section ES_03-6</td>\n",
       "      <td>EG52</td>\n",
       "      <td>1</td>\n",
       "      <td>2.9 = -2x+3.7+x</td>\n",
       "      <td>NaN</td>\n",
       "      <td>NaN</td>\n",
       "      <td>NaN</td>\n",
       "      <td>NaN</td>\n",
       "      <td>...</td>\n",
       "      <td>NaN</td>\n",
       "      <td>[SkillRule: Consolidate vars, no coeff; CLT]</td>\n",
       "      <td>27</td>\n",
       "      <td>1</td>\n",
       "      <td>21.959627</td>\n",
       "      <td>24.643487</td>\n",
       "      <td>0.896476</td>\n",
       "      <td>0.896476</td>\n",
       "      <td>27.0</td>\n",
       "      <td>27</td>\n",
       "    </tr>\n",
       "  </tbody>\n",
       "</table>\n",
       "<p>3 rows × 26 columns</p>\n",
       "</div>"
      ],
      "text/plain": [
       "     Row Anon Student Id                Problem Hierarchy Problem Name  \\\n",
       "0  10039      52vEY7f17k  Unit CTA1_13, Section CTA1_13-1       PROP01   \n",
       "1  10482      52vEY7f17k  Unit CTA1_06, Section CTA1_06-3        FOR05   \n",
       "2  11024      52vEY7f17k      Unit ES_03, Section ES_03-6         EG52   \n",
       "\n",
       "   Problem View        Step Name  Step Start Time  First Transaction Time  \\\n",
       "0             1     2/300*X = 10              NaN                     NaN   \n",
       "1             1           xScale              NaN                     NaN   \n",
       "2             1  2.9 = -2x+3.7+x              NaN                     NaN   \n",
       "\n",
       "   Correct Transaction Time  Step End Time  ...  Corrects  \\\n",
       "0                       NaN            NaN  ...       NaN   \n",
       "1                       NaN            NaN  ...       NaN   \n",
       "2                       NaN            NaN  ...       NaN   \n",
       "\n",
       "                                    KC(Default)  Opportunity(Default)  KC_num  \\\n",
       "0                                           NaN                   NaN       0   \n",
       "1                       Changing axis intervals                    28       1   \n",
       "2  [SkillRule: Consolidate vars, no coeff; CLT]                    27       1   \n",
       "\n",
       "   Step time  Problem time   KC CFAR KC CFAR(avg) Opportunity(Mean)  \\\n",
       "0  22.200000     24.643487  0.815000     0.815000               0.0   \n",
       "1  17.450453     24.643487  1.000000     1.000000              28.0   \n",
       "2  21.959627     24.643487  0.896476     0.896476              27.0   \n",
       "\n",
       "   Opportunity(Min)  \n",
       "0                 0  \n",
       "1                28  \n",
       "2                27  \n",
       "\n",
       "[3 rows x 26 columns]"
      ]
     },
     "execution_count": 19,
     "metadata": {},
     "output_type": "execute_result"
    }
   ],
   "source": [
    "test_data[:3]"
   ]
  },
  {
   "cell_type": "code",
   "execution_count": 11,
   "metadata": {},
   "outputs": [
    {
     "data": {
      "text/plain": [
       "['Row',\n",
       " 'Anon Student Id',\n",
       " 'Problem Hierarchy',\n",
       " 'Problem Name',\n",
       " 'Problem View',\n",
       " 'Step Name',\n",
       " 'Step Start Time',\n",
       " 'First Transaction Time',\n",
       " 'Correct Transaction Time',\n",
       " 'Step End Time',\n",
       " 'Step Duration (sec)',\n",
       " 'Correct Step Duration (sec)',\n",
       " 'Error Step Duration (sec)',\n",
       " 'Correct First Attempt',\n",
       " 'Incorrects',\n",
       " 'Hints',\n",
       " 'Corrects',\n",
       " 'KC(Default)',\n",
       " 'Opportunity(Default)',\n",
       " 'Personal CFAR',\n",
       " 'Problem CFAR',\n",
       " 'Step CFAR',\n",
       " 'KC CFAR']"
      ]
     },
     "execution_count": 11,
     "metadata": {},
     "output_type": "execute_result"
    }
   ],
   "source": [
    "traindata.columns"
   ]
  },
  {
   "cell_type": "code",
   "execution_count": 27,
   "metadata": {},
   "outputs": [],
   "source": [
    "traindata = traindata.drop('Row')\n",
    "testdata = testdata.drop('Row')\n",
    "traindata = traindata.drop('Anon Student Id')\n",
    "testdata = testdata.drop('Anon Student Id')\n",
    "traindata = traindata.drop('Problem Hierarchy')\n",
    "testdata = testdata.drop('Problem Hierarchy')\n",
    "traindata = traindata.drop('Problem Name')\n",
    "testdata = testdata.drop('Problem Name')\n",
    "traindata = traindata.drop('Step Name')\n",
    "testdata = testdata.drop('Step Name')\n",
    "traindata = traindata.drop('Step Start Time')\n",
    "testdata = testdata.drop('Step Start Time')\n",
    "traindata = traindata.drop('First Transaction Time')\n",
    "testdata = testdata.drop('First Transaction Time')\n",
    "traindata = traindata.drop('Correct Transaction Time')\n",
    "testdata = testdata.drop('Correct Transaction Time')\n",
    "traindata = traindata.drop('Step End Time')\n",
    "testdata = testdata.drop('Step End Time')\n",
    "traindata = traindata.drop('Step Duration (sec)')\n",
    "testdata = testdata.drop('Step Duration (sec)')\n",
    "traindata = traindata.drop('Correct Step Duration (sec)')\n",
    "testdata = testdata.drop('Correct Step Duration (sec)')\n",
    "traindata = traindata.drop('Error Step Duration (sec)')\n",
    "testdata = testdata.drop('Error Step Duration (sec)')\n",
    "traindata = traindata.drop('Incorrects')\n",
    "testdata = testdata.drop('Incorrects')\n",
    "traindata = traindata.drop('Hints')\n",
    "testdata = testdata.drop('Hints')\n",
    "traindata = traindata.drop('Corrects')\n",
    "testdata = testdata.drop('Corrects')\n",
    "traindata = traindata.drop('KC(Default)')\n",
    "testdata = testdata.drop('KC(Default)')\n",
    "traindata = traindata.drop('Opportunity(Default)')\n",
    "testdata = testdata.drop('Opportunity(Default)')"
   ]
  },
  {
   "cell_type": "code",
   "execution_count": 28,
   "metadata": {},
   "outputs": [
    {
     "data": {
      "text/plain": [
       "['Problem View',\n",
       " 'Correct First Attempt',\n",
       " 'Personal CFAR',\n",
       " 'Problem CFAR',\n",
       " 'Step CFAR']"
      ]
     },
     "execution_count": 28,
     "metadata": {},
     "output_type": "execute_result"
    }
   ],
   "source": [
    "traindata.columns"
   ]
  },
  {
   "cell_type": "code",
   "execution_count": 29,
   "metadata": {},
   "outputs": [
    {
     "data": {
      "text/plain": [
       "['Problem View',\n",
       " 'Correct First Attempt',\n",
       " 'Personal CFAR',\n",
       " 'Problem CFAR',\n",
       " 'Step CFAR']"
      ]
     },
     "execution_count": 29,
     "metadata": {},
     "output_type": "execute_result"
    }
   ],
   "source": [
    "testdata.columns"
   ]
  },
  {
   "cell_type": "code",
   "execution_count": 31,
   "metadata": {},
   "outputs": [],
   "source": [
    "train_data['Problem Hierarchy'] = train_data['KC_num']"
   ]
  },
  {
   "cell_type": "code",
   "execution_count": 32,
   "metadata": {},
   "outputs": [],
   "source": [
    "train = traindata.toPandas()\n",
    "test = testdata.toPandas()"
   ]
  },
  {
   "cell_type": "code",
   "execution_count": 34,
   "metadata": {},
   "outputs": [],
   "source": [
    "train['KC_num'] = train_data['KC_num']\n",
    "test['KC_num'] = test_data['KC_num']\n",
    "train['KC CFAR'] = train_data['KC CFAR']\n",
    "test['KC CFAR'] = test_data['KC CFAR']\n",
    "train['KC CFAR(avg)'] = train_data['KC CFAR(avg)']\n",
    "test['KC CFAR(avg)'] = test_data['KC CFAR(avg)']\n",
    "train['Problem time'] = train_data['Problem time']\n",
    "test['Problem time'] = test_data['Problem time']\n",
    "train['Step time'] = train_data['Step time']\n",
    "test['Step time'] = test_data['Step time']\n",
    "train['Opportunity(Mean)'] = train_data['Opportunity(Mean)']\n",
    "test['Opportunity(Mean)'] = test_data['Opportunity(Mean)']\n",
    "train['Opportunity(Min)'] = train_data['Opportunity(Min)']\n",
    "test['Opportunity(Min)'] = test_data['Opportunity(Min)']"
   ]
  },
  {
   "cell_type": "code",
   "execution_count": 35,
   "metadata": {},
   "outputs": [
    {
     "data": {
      "text/html": [
       "<div>\n",
       "<style scoped>\n",
       "    .dataframe tbody tr th:only-of-type {\n",
       "        vertical-align: middle;\n",
       "    }\n",
       "\n",
       "    .dataframe tbody tr th {\n",
       "        vertical-align: top;\n",
       "    }\n",
       "\n",
       "    .dataframe thead th {\n",
       "        text-align: right;\n",
       "    }\n",
       "</style>\n",
       "<table border=\"1\" class=\"dataframe\">\n",
       "  <thead>\n",
       "    <tr style=\"text-align: right;\">\n",
       "      <th></th>\n",
       "      <th>Problem View</th>\n",
       "      <th>Correct First Attempt</th>\n",
       "      <th>Personal CFAR</th>\n",
       "      <th>Problem CFAR</th>\n",
       "      <th>Step CFAR</th>\n",
       "      <th>KC_num</th>\n",
       "      <th>KC CFAR</th>\n",
       "      <th>KC CFAR(avg)</th>\n",
       "      <th>Problem time</th>\n",
       "      <th>Step time</th>\n",
       "      <th>Opportunity(Mean)</th>\n",
       "      <th>Opportunity(Min)</th>\n",
       "    </tr>\n",
       "  </thead>\n",
       "  <tbody>\n",
       "    <tr>\n",
       "      <th>0</th>\n",
       "      <td>1</td>\n",
       "      <td>1</td>\n",
       "      <td>0.779603</td>\n",
       "      <td>0.889535</td>\n",
       "      <td>1.000000</td>\n",
       "      <td>0</td>\n",
       "      <td>0.815000</td>\n",
       "      <td>0.815000</td>\n",
       "      <td>40.733454</td>\n",
       "      <td>49.941010</td>\n",
       "      <td>0.0</td>\n",
       "      <td>0</td>\n",
       "    </tr>\n",
       "    <tr>\n",
       "      <th>1</th>\n",
       "      <td>2</td>\n",
       "      <td>1</td>\n",
       "      <td>0.775149</td>\n",
       "      <td>0.813165</td>\n",
       "      <td>1.000000</td>\n",
       "      <td>0</td>\n",
       "      <td>0.815000</td>\n",
       "      <td>0.815000</td>\n",
       "      <td>40.733454</td>\n",
       "      <td>32.949725</td>\n",
       "      <td>0.0</td>\n",
       "      <td>0</td>\n",
       "    </tr>\n",
       "    <tr>\n",
       "      <th>2</th>\n",
       "      <td>2</td>\n",
       "      <td>1</td>\n",
       "      <td>0.788705</td>\n",
       "      <td>0.787606</td>\n",
       "      <td>1.000000</td>\n",
       "      <td>1</td>\n",
       "      <td>0.966979</td>\n",
       "      <td>0.966979</td>\n",
       "      <td>40.733454</td>\n",
       "      <td>10.225832</td>\n",
       "      <td>1.0</td>\n",
       "      <td>1</td>\n",
       "    </tr>\n",
       "    <tr>\n",
       "      <th>3</th>\n",
       "      <td>1</td>\n",
       "      <td>1</td>\n",
       "      <td>0.808453</td>\n",
       "      <td>0.779661</td>\n",
       "      <td>1.000000</td>\n",
       "      <td>3</td>\n",
       "      <td>0.124279</td>\n",
       "      <td>0.300044</td>\n",
       "      <td>40.733454</td>\n",
       "      <td>84.677811</td>\n",
       "      <td>1.0</td>\n",
       "      <td>1</td>\n",
       "    </tr>\n",
       "    <tr>\n",
       "      <th>4</th>\n",
       "      <td>3</td>\n",
       "      <td>1</td>\n",
       "      <td>0.752012</td>\n",
       "      <td>0.743902</td>\n",
       "      <td>0.666667</td>\n",
       "      <td>1</td>\n",
       "      <td>0.800770</td>\n",
       "      <td>0.800770</td>\n",
       "      <td>40.733454</td>\n",
       "      <td>34.228587</td>\n",
       "      <td>1.0</td>\n",
       "      <td>1</td>\n",
       "    </tr>\n",
       "  </tbody>\n",
       "</table>\n",
       "</div>"
      ],
      "text/plain": [
       "  Problem View Correct First Attempt  Personal CFAR  Problem CFAR  Step CFAR  \\\n",
       "0            1                     1       0.779603      0.889535   1.000000   \n",
       "1            2                     1       0.775149      0.813165   1.000000   \n",
       "2            2                     1       0.788705      0.787606   1.000000   \n",
       "3            1                     1       0.808453      0.779661   1.000000   \n",
       "4            3                     1       0.752012      0.743902   0.666667   \n",
       "\n",
       "   KC_num   KC CFAR  KC CFAR(avg)  Problem time  Step time  Opportunity(Mean)  \\\n",
       "0       0  0.815000      0.815000     40.733454  49.941010                0.0   \n",
       "1       0  0.815000      0.815000     40.733454  32.949725                0.0   \n",
       "2       1  0.966979      0.966979     40.733454  10.225832                1.0   \n",
       "3       3  0.124279      0.300044     40.733454  84.677811                1.0   \n",
       "4       1  0.800770      0.800770     40.733454  34.228587                1.0   \n",
       "\n",
       "   Opportunity(Min)  \n",
       "0                 0  \n",
       "1                 0  \n",
       "2                 1  \n",
       "3                 1  \n",
       "4                 1  "
      ]
     },
     "execution_count": 35,
     "metadata": {},
     "output_type": "execute_result"
    }
   ],
   "source": [
    "train.head()"
   ]
  },
  {
   "cell_type": "code",
   "execution_count": null,
   "metadata": {},
   "outputs": [],
   "source": []
  },
  {
   "cell_type": "code",
   "execution_count": 36,
   "metadata": {},
   "outputs": [],
   "source": [
    "train.to_csv('data/train_pyspark.csv', sep='\\t', header=True, index = False)\n",
    "test.to_csv('data/test_pyspark.csv', sep='\\t', header=True, index = False)"
   ]
  },
  {
   "cell_type": "code",
   "execution_count": null,
   "metadata": {},
   "outputs": [],
   "source": []
  }
 ],
 "metadata": {
  "kernelspec": {
   "display_name": "Python 3",
   "language": "python",
   "name": "python3"
  },
  "language_info": {
   "codemirror_mode": {
    "name": "ipython",
    "version": 3
   },
   "file_extension": ".py",
   "mimetype": "text/x-python",
   "name": "python",
   "nbconvert_exporter": "python",
   "pygments_lexer": "ipython3",
   "version": "3.7.6"
  }
 },
 "nbformat": 4,
 "nbformat_minor": 4
}
